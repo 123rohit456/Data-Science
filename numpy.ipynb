{
 "cells": [
  {
   "cell_type": "code",
   "execution_count": null,
   "id": "af500e05",
   "metadata": {},
   "outputs": [],
   "source": [
    "Numpy - Numerical Python "
   ]
  },
  {
   "cell_type": "code",
   "execution_count": 2,
   "id": "960a5373",
   "metadata": {},
   "outputs": [],
   "source": [
    "import numpy as np "
   ]
  },
  {
   "cell_type": "code",
   "execution_count": null,
   "id": "2543c520",
   "metadata": {},
   "outputs": [],
   "source": [
    "Use Cases of numpy: \n",
    "1] Statistics: min,max,mean,mode,median\n",
    "2] Matrices 3] Linear Algebra 4] Logarithmic 5] Trigonometry"
   ]
  },
  {
   "cell_type": "code",
   "execution_count": null,
   "id": "b72f77e3",
   "metadata": {},
   "outputs": [],
   "source": [
    "Properties of Numpy array:\n",
    "1] Numpy is a collection of homogenous data types. (same data type)\n",
    "2] Numpy array is faster than list \n",
    "3] Numpy array is mutable (changeable)\n",
    "4] Multi dimensional support - 0D,1D,2D,...nD\n",
    "5] Numpy array takes less memory than list\n",
    "6] Numpy array is also used in Computer vision(image processing)"
   ]
  },
  {
   "cell_type": "code",
   "execution_count": null,
   "id": "4a0e60d8",
   "metadata": {},
   "outputs": [],
   "source": [
    "Numpy Functions: "
   ]
  },
  {
   "cell_type": "code",
   "execution_count": null,
   "id": "1f5775de",
   "metadata": {},
   "outputs": [],
   "source": [
    "1] np.array(list/tuple/dict/Series)\n",
    "a] Array can be created using list,tuple,dict or Series\n",
    "b] Note: Using set is not recommended, as we might lose our data as it doesnt allow duplicates"
   ]
  },
  {
   "cell_type": "code",
   "execution_count": null,
   "id": "f45bdde6",
   "metadata": {},
   "outputs": [
    {
     "data": {
      "text/plain": [
       "array([1, 2, 3, 4])"
      ]
     },
     "execution_count": 3,
     "metadata": {},
     "output_type": "execute_result"
    }
   ],
   "source": [
    "lst = [1,2,3,4] # int \n",
    "arr1= np.array(lst)\n",
    "arr1"
   ]
  },
  {
   "cell_type": "code",
   "execution_count": null,
   "id": "3605acdd",
   "metadata": {},
   "outputs": [],
   "source": [
    "Data Type Hierarchy - int,float,complex,str"
   ]
  },
  {
   "cell_type": "code",
   "execution_count": null,
   "id": "164a0593",
   "metadata": {},
   "outputs": [
    {
     "data": {
      "text/plain": [
       "array([1. , 2. , 3. , 4. , 5.4])"
      ]
     },
     "execution_count": 4,
     "metadata": {},
     "output_type": "execute_result"
    }
   ],
   "source": [
    "lst = [1,2,3,4,5.4] # int,float - float\n",
    "arr1= np.array(lst)\n",
    "arr1"
   ]
  },
  {
   "cell_type": "code",
   "execution_count": null,
   "id": "0dfa5d2b",
   "metadata": {},
   "outputs": [
    {
     "data": {
      "text/plain": [
       "array([1. +0.j, 2. +0.j, 3. +0.j, 4. +0.j, 5.4+0.j, 1. +2.j])"
      ]
     },
     "execution_count": 6,
     "metadata": {},
     "output_type": "execute_result"
    }
   ],
   "source": [
    "lst = [1,2,3,4,5.4,1+2j] # int,float,complex - complex\n",
    "arr1= np.array(lst)\n",
    "arr1"
   ]
  },
  {
   "cell_type": "code",
   "execution_count": null,
   "id": "c95fe423",
   "metadata": {},
   "outputs": [
    {
     "data": {
      "text/plain": [
       "array(['1', '2', '3', '4', '5.4', '(1+2j)', 'a'], dtype='<U64')"
      ]
     },
     "execution_count": 7,
     "metadata": {},
     "output_type": "execute_result"
    }
   ],
   "source": [
    "lst = [1,2,3,4,5.4,1+2j,\"a\"] #int,float,complex,str - str\n",
    "arr1= np.array(lst)\n",
    "arr1"
   ]
  },
  {
   "cell_type": "code",
   "execution_count": 8,
   "id": "a0603042",
   "metadata": {},
   "outputs": [
    {
     "data": {
      "text/plain": [
       "array([1.2, 1.3, 1.4, 1.5])"
      ]
     },
     "execution_count": 8,
     "metadata": {},
     "output_type": "execute_result"
    }
   ],
   "source": [
    "float_list = [1.2,1.3,1.4,1.5] # float \n",
    "arr1 = np.array(float_list)\n",
    "arr1"
   ]
  },
  {
   "cell_type": "code",
   "execution_count": 9,
   "id": "91d8c679",
   "metadata": {},
   "outputs": [
    {
     "name": "stdout",
     "output_type": "stream",
     "text": [
      "[1.2 1.3 1.4 1.5]\n"
     ]
    }
   ],
   "source": [
    "print(arr1)"
   ]
  },
  {
   "cell_type": "code",
   "execution_count": null,
   "id": "42859baa",
   "metadata": {},
   "outputs": [],
   "source": [
    "Type Casting in Numpy array"
   ]
  },
  {
   "cell_type": "code",
   "execution_count": null,
   "id": "29226afe",
   "metadata": {},
   "outputs": [],
   "source": [
    "int - float,complex,str \n",
    "float - int,complex,str\n",
    "complex - int,float not possible, str"
   ]
  },
  {
   "cell_type": "code",
   "execution_count": 11,
   "id": "f82de4fe",
   "metadata": {},
   "outputs": [
    {
     "name": "stdout",
     "output_type": "stream",
     "text": [
      "[1 2 3 4]\n"
     ]
    }
   ],
   "source": [
    "float_list = [1.2,2.3,3.4,4.5]\n",
    "arr=np.array(float_list,dtype=\"int\") \n",
    "print(arr)"
   ]
  },
  {
   "cell_type": "code",
   "execution_count": 17,
   "id": "cdce6230",
   "metadata": {},
   "outputs": [
    {
     "name": "stdout",
     "output_type": "stream",
     "text": [
      "[1. 2. 3. 4.]\n"
     ]
    }
   ],
   "source": [
    "float_list = [1,2,3,4]\n",
    "int_arr=np.array(float_list,dtype=\"float\") \n",
    "print(int_arr)"
   ]
  },
  {
   "cell_type": "code",
   "execution_count": 14,
   "id": "bd735384",
   "metadata": {},
   "outputs": [
    {
     "ename": "TypeError",
     "evalue": "unsupported operand type(s) for /: 'list' and 'int'",
     "output_type": "error",
     "traceback": [
      "\u001b[31m---------------------------------------------------------------------------\u001b[39m",
      "\u001b[31mTypeError\u001b[39m                                 Traceback (most recent call last)",
      "\u001b[36mCell\u001b[39m\u001b[36m \u001b[39m\u001b[32mIn[14]\u001b[39m\u001b[32m, line 1\u001b[39m\n\u001b[32m----> \u001b[39m\u001b[32m1\u001b[39m lst/\u001b[32m2\u001b[39m\n",
      "\u001b[31mTypeError\u001b[39m: unsupported operand type(s) for /: 'list' and 'int'"
     ]
    }
   ],
   "source": [
    "lst/2"
   ]
  },
  {
   "cell_type": "code",
   "execution_count": 18,
   "id": "07ab8f12",
   "metadata": {},
   "outputs": [
    {
     "data": {
      "text/plain": [
       "array([0.5, 1. , 1.5, 2. ])"
      ]
     },
     "execution_count": 18,
     "metadata": {},
     "output_type": "execute_result"
    }
   ],
   "source": [
    "int_arr/2"
   ]
  },
  {
   "cell_type": "code",
   "execution_count": 19,
   "id": "557c929f",
   "metadata": {},
   "outputs": [
    {
     "data": {
      "text/plain": [
       "array([2., 4., 6., 8.])"
      ]
     },
     "execution_count": 19,
     "metadata": {},
     "output_type": "execute_result"
    }
   ],
   "source": [
    "int_arr*2"
   ]
  },
  {
   "cell_type": "code",
   "execution_count": 20,
   "id": "574841f2",
   "metadata": {},
   "outputs": [
    {
     "data": {
      "text/plain": [
       "array([ 1.,  4.,  9., 16.])"
      ]
     },
     "execution_count": 20,
     "metadata": {},
     "output_type": "execute_result"
    }
   ],
   "source": [
    "int_arr**2"
   ]
  },
  {
   "cell_type": "code",
   "execution_count": null,
   "id": "ddf3a487",
   "metadata": {},
   "outputs": [],
   "source": [
    "Numpy array works faster than for loop"
   ]
  },
  {
   "cell_type": "code",
   "execution_count": null,
   "id": "ac6848ed",
   "metadata": {},
   "outputs": [
    {
     "name": "stdout",
     "output_type": "stream",
     "text": [
      "7.867813110351562e-05\n"
     ]
    }
   ],
   "source": [
    "import time \n",
    "start_time = time.time()\n",
    "lst = [i**2 for i in range(1,100)] # list and for \n",
    "total_time = time.time() - start_time\n",
    "print(total_time)"
   ]
  },
  {
   "cell_type": "code",
   "execution_count": 22,
   "id": "12bf17dd",
   "metadata": {},
   "outputs": [
    {
     "name": "stdout",
     "output_type": "stream",
     "text": [
      "0.0002257823944091797\n"
     ]
    }
   ],
   "source": [
    "start_time=time.time()\n",
    "array = np.array(range(1,100))\n",
    "array=array**2\n",
    "total_time = time.time() - start_time\n",
    "print(total_time)"
   ]
  },
  {
   "cell_type": "code",
   "execution_count": null,
   "id": "578f36ea",
   "metadata": {},
   "outputs": [],
   "source": [
    "Time taken by np array < Time taken by for loop"
   ]
  },
  {
   "cell_type": "code",
   "execution_count": null,
   "id": "d8b793ee",
   "metadata": {},
   "outputs": [],
   "source": [
    "2] array.ndim = To know the dimension of an array - It is an array function"
   ]
  },
  {
   "cell_type": "code",
   "execution_count": 37,
   "id": "d8760870",
   "metadata": {},
   "outputs": [
    {
     "name": "stdout",
     "output_type": "stream",
     "text": [
      "0\n",
      "()\n"
     ]
    }
   ],
   "source": [
    "# A] 0-D array\n",
    "array0 = np.array(1)\n",
    "print(array0.ndim)\n",
    "print(array0.shape)"
   ]
  },
  {
   "cell_type": "code",
   "execution_count": 44,
   "id": "93b453e3",
   "metadata": {},
   "outputs": [
    {
     "name": "stdout",
     "output_type": "stream",
     "text": [
      "1\n",
      "(4,)\n",
      "4\n"
     ]
    }
   ],
   "source": [
    "# B] 1D array - It is collection of multiple OD arrays(list)\n",
    "array1 = np.array([1,2,3,4])\n",
    "print(array1.ndim)\n",
    "print(array1.shape) # columns\n",
    "print(array1.size) \n"
   ]
  },
  {
   "cell_type": "code",
   "execution_count": 46,
   "id": "064a1543",
   "metadata": {},
   "outputs": [
    {
     "name": "stdout",
     "output_type": "stream",
     "text": [
      "2\n",
      "(2, 4)\n",
      "8\n"
     ]
    }
   ],
   "source": [
    "# C] 2D array - It is collection of multiple 1D arrays(nested list)\n",
    "array2 = np.array([[1,2,3,4],[5,6,7,8]])\n",
    "print(array2.ndim)\n",
    "print(array2.shape) #rows,columns\n",
    "print(array2.size) "
   ]
  },
  {
   "cell_type": "code",
   "execution_count": 47,
   "id": "4516f222",
   "metadata": {},
   "outputs": [
    {
     "name": "stdout",
     "output_type": "stream",
     "text": [
      "3\n",
      "(2, 2, 4)\n",
      "16\n"
     ]
    }
   ],
   "source": [
    "# D] 3D array - It is collection of multiple 2D arrays\n",
    "array3 = np.array([[[1,2,3,4],[5,6,7,8]],\n",
    "                   [[9,10,11,12],[13,14,15,16]]])\n",
    "print(array3.ndim)\n",
    "print(array3.shape)\n",
    "print(array3.size)"
   ]
  },
  {
   "cell_type": "code",
   "execution_count": null,
   "id": "4cff1f61",
   "metadata": {},
   "outputs": [
    {
     "name": "stdout",
     "output_type": "stream",
     "text": [
      "3\n",
      "(1, 1, 3)\n"
     ]
    }
   ],
   "source": [
    "array = np.array([[[1,2,3]]])\n",
    "print(array.ndim)\n",
    "print(array.shape)"
   ]
  },
  {
   "cell_type": "code",
   "execution_count": null,
   "id": "8fcdb403",
   "metadata": {},
   "outputs": [],
   "source": [
    "3] array.shape -  Output Datatype is tuple"
   ]
  },
  {
   "cell_type": "code",
   "execution_count": null,
   "id": "a4b1e1f5",
   "metadata": {},
   "outputs": [],
   "source": [
    "array.ndmin parameter - lower to higher dimensions"
   ]
  },
  {
   "cell_type": "code",
   "execution_count": null,
   "id": "275adec5",
   "metadata": {},
   "outputs": [],
   "source": [
    "Note: Reducing higher dimensions to lower dimensions is not possible directly by ndmin parameter"
   ]
  },
  {
   "cell_type": "code",
   "execution_count": 49,
   "id": "d5e0958e",
   "metadata": {},
   "outputs": [
    {
     "data": {
      "text/plain": [
       "2"
      ]
     },
     "execution_count": 49,
     "metadata": {},
     "output_type": "execute_result"
    }
   ],
   "source": [
    "arr1 = np.array([[3,4],[4,5]],ndmin=1)\n",
    "arr1.ndim"
   ]
  },
  {
   "cell_type": "code",
   "execution_count": 50,
   "id": "0bf0baac",
   "metadata": {},
   "outputs": [
    {
     "data": {
      "text/plain": [
       "3"
      ]
     },
     "execution_count": 50,
     "metadata": {},
     "output_type": "execute_result"
    }
   ],
   "source": [
    "arr1 = np.array([[3,4],[4,5]],ndmin=3)\n",
    "arr1.ndim"
   ]
  },
  {
   "cell_type": "code",
   "execution_count": 51,
   "id": "a17086eb",
   "metadata": {},
   "outputs": [
    {
     "name": "stdout",
     "output_type": "stream",
     "text": [
      "[[[3 4]\n",
      "  [4 5]]]\n"
     ]
    }
   ],
   "source": [
    "print(arr1)"
   ]
  },
  {
   "cell_type": "code",
   "execution_count": null,
   "id": "e31d0933",
   "metadata": {},
   "outputs": [],
   "source": [
    "5] array.reshape(new_shape)"
   ]
  },
  {
   "cell_type": "code",
   "execution_count": 57,
   "id": "212235fc",
   "metadata": {},
   "outputs": [
    {
     "name": "stdout",
     "output_type": "stream",
     "text": [
      "[[1]\n",
      " [2]\n",
      " [3]\n",
      " [4]]\n",
      "************************\n",
      "[[1 2 3 4]]\n",
      "************************\n",
      "[[1 2]\n",
      " [3 4]]\n"
     ]
    }
   ],
   "source": [
    "array1 = np.array([1,2,3,4]) # (4) - (4,1),(1,4),(2,2)\n",
    "print(array1.reshape(4,1))\n",
    "print(\"************************\")\n",
    "print(array1.reshape(1,4))\n",
    "print(\"************************\")\n",
    "print(array1.reshape(2,2))\n"
   ]
  },
  {
   "cell_type": "code",
   "execution_count": null,
   "id": "09e682f8",
   "metadata": {},
   "outputs": [
    {
     "data": {
      "text/plain": [
       "(np.int64(1), np.int64(5), np.int64(3), np.int64(3))"
      ]
     },
     "execution_count": 58,
     "metadata": {},
     "output_type": "execute_result"
    }
   ],
   "source": [
    "# Indexing in numpy: 1D array\n",
    "arr1 = np.array([1,2,3,4,5])\n",
    "arr1[0],arr1[-1],arr1[2],arr1[-3]"
   ]
  },
  {
   "cell_type": "code",
   "execution_count": 64,
   "id": "7471e748",
   "metadata": {},
   "outputs": [
    {
     "name": "stdout",
     "output_type": "stream",
     "text": [
      "[[1 2 3 4]\n",
      " [5 6 7 8]]\n"
     ]
    },
    {
     "data": {
      "text/plain": [
       "(np.int64(2), np.int64(2), np.int64(7), np.int64(7))"
      ]
     },
     "execution_count": 64,
     "metadata": {},
     "output_type": "execute_result"
    }
   ],
   "source": [
    "# Indexing in 2D array\n",
    "array2 = np.array([[1,2,3,4],[5,6,7,8]])\n",
    "print(array2)\n",
    "array2[0][1],array2[0,1],array2[1,2],array2[1][2]\n"
   ]
  },
  {
   "cell_type": "code",
   "execution_count": null,
   "id": "99499092",
   "metadata": {},
   "outputs": [
    {
     "name": "stdout",
     "output_type": "stream",
     "text": [
      "[[[ 1  2  3  4]\n",
      "  [ 5  6  7  8]]\n",
      "\n",
      " [[ 9 10 11 12]\n",
      "  [13 14 15 16]]]\n"
     ]
    },
    {
     "data": {
      "text/plain": [
       "(np.int64(6), np.int64(6), np.int64(16), np.int64(16))"
      ]
     },
     "execution_count": 69,
     "metadata": {},
     "output_type": "execute_result"
    }
   ],
   "source": [
    "# Indexing in 3D array\n",
    "array3 = np.array([[[1,2,3,4],[5,6,7,8]],\n",
    "                   [[9,10,11,12],[13,14,15,16]]])\n",
    "print(array3)\n",
    "array3[0][1][1],array3[0,1,1],array3[1,1,3],array3[1,1,-1]\n"
   ]
  },
  {
   "cell_type": "code",
   "execution_count": null,
   "id": "6387243a",
   "metadata": {},
   "outputs": [],
   "source": [
    "# Slicing in numpy: \n",
    "[start_index:end_index(exclude):step_size(default=1)]"
   ]
  },
  {
   "cell_type": "code",
   "execution_count": null,
   "id": "b9b3dbe6",
   "metadata": {},
   "outputs": [
    {
     "name": "stdout",
     "output_type": "stream",
     "text": [
      "[2 3 4] [2 3 4] [2 3 4] [2 3 4]\n",
      "[1 3 5]\n",
      "[2 4 6]\n",
      "[5 3 1]\n",
      "[6 4 2]\n"
     ]
    }
   ],
   "source": [
    "# Slicing in 1D array \n",
    "arr1 = np.array([1,2,3,4,5,6])\n",
    "print(arr1[1:4],arr1[-5:-2],arr1[-5:4],arr1[1:-2])\n",
    "print(arr1[::2])\n",
    "print(arr1[1::2])\n",
    "print(arr1[-2::-2])\n",
    "print(arr1[::-2])"
   ]
  },
  {
   "cell_type": "code",
   "execution_count": 85,
   "id": "0acd5855",
   "metadata": {},
   "outputs": [
    {
     "name": "stdout",
     "output_type": "stream",
     "text": [
      "[[ 1  2  3  4]\n",
      " [ 5  6  7  8]\n",
      " [ 9 10 11 12]]\n"
     ]
    }
   ],
   "source": [
    "# Slicing in 2D array\n",
    "array2 = np.array([[1,2,3,4],[5,6,7,8],[9,10,11,12]])\n",
    "print(array2)"
   ]
  },
  {
   "cell_type": "code",
   "execution_count": 90,
   "id": "4f9d1c46",
   "metadata": {},
   "outputs": [
    {
     "name": "stdout",
     "output_type": "stream",
     "text": [
      "[2 3]\n",
      "[[ 2  3]\n",
      " [ 6  7]\n",
      " [10 11]]\n",
      "[[ 2  4]\n",
      " [10 12]]\n",
      "[[ 6  8]\n",
      " [10 12]]\n"
     ]
    }
   ],
   "source": [
    "print(array2[0,1:3])\n",
    "print(array2[:,1:3])\n",
    "print(array2[::2,1::2])\n",
    "print(array2[1:,1::2])"
   ]
  },
  {
   "cell_type": "code",
   "execution_count": 96,
   "id": "483b8244",
   "metadata": {},
   "outputs": [
    {
     "data": {
      "text/plain": [
       "array([[[ 1,  2,  3,  4],\n",
       "        [ 5,  6,  7,  8],\n",
       "        [ 1,  2,  3,  4]],\n",
       "\n",
       "       [[ 9, 10, 11, 12],\n",
       "        [13, 14, 15, 16],\n",
       "        [ 1,  2,  3,  4]],\n",
       "\n",
       "       [[17, 18, 19, 20],\n",
       "        [21, 22, 23, 24],\n",
       "        [ 1,  2,  3,  4]]])"
      ]
     },
     "execution_count": 96,
     "metadata": {},
     "output_type": "execute_result"
    }
   ],
   "source": [
    "# Slicing in 3D array\n",
    "array3 = np.array([[[1,2,3,4],[5,6,7,8],[1,2,3,4]],\n",
    "                   [[9,10,11,12],[13,14,15,16],[1,2,3,4]],\n",
    "                   [[17,18,19,20],[21,22,23,24],[1,2,3,4]]])\n",
    "array3"
   ]
  },
  {
   "cell_type": "code",
   "execution_count": 97,
   "id": "c8b4dbbb",
   "metadata": {},
   "outputs": [
    {
     "name": "stdout",
     "output_type": "stream",
     "text": [
      "[[[ 1  2]\n",
      "  [ 5  6]\n",
      "  [ 1  2]]\n",
      "\n",
      " [[17 18]\n",
      "  [21 22]\n",
      "  [ 1  2]]]\n",
      "[[ 5  6]\n",
      " [13 14]\n",
      " [21 22]]\n"
     ]
    }
   ],
   "source": [
    "# 1st plane and 3rd plane, - 1st 2 \n",
    "print(array3[::2,:,:2])\n",
    "# [5 6]\n",
    "#   [13 14]\n",
    "#   [21 22]\n",
    "print(array3[:,1,:2])"
   ]
  },
  {
   "cell_type": "code",
   "execution_count": 98,
   "id": "d1ff8aca",
   "metadata": {},
   "outputs": [
    {
     "name": "stdout",
     "output_type": "stream",
     "text": [
      "1 2 3 "
     ]
    }
   ],
   "source": [
    "# Acces Numpy items using for loop \n",
    "arr1 = np.array([1,2,3])\n",
    "for i in arr1: print(i,end=\" \")"
   ]
  },
  {
   "cell_type": "code",
   "execution_count": null,
   "id": "211a4625",
   "metadata": {},
   "outputs": [
    {
     "name": "stdout",
     "output_type": "stream",
     "text": [
      "[1 2 3]\n",
      "[4 5 6]\n"
     ]
    }
   ],
   "source": [
    "arr2 = np.array([[1,2,3],[4,5,6]]) # In case of 2D array, it prints index wise not element wise \n",
    "for i in arr2: print(i)"
   ]
  },
  {
   "cell_type": "code",
   "execution_count": 101,
   "id": "481c146a",
   "metadata": {},
   "outputs": [
    {
     "name": "stdout",
     "output_type": "stream",
     "text": [
      "1 2 3 4 5 6 "
     ]
    }
   ],
   "source": [
    "arr2 = np.array([[1,2,3],[4,5,6]]) # In case of 2D array, it prints index wise not element wise \n",
    "for i in arr2: \n",
    "    for j in i:\n",
    "        print(j,end=\" \")"
   ]
  },
  {
   "cell_type": "code",
   "execution_count": null,
   "id": "2499ea68",
   "metadata": {},
   "outputs": [],
   "source": [
    "np.nditer(array)\n",
    "np.ndenumerate(array)"
   ]
  },
  {
   "cell_type": "code",
   "execution_count": 102,
   "id": "991e2094",
   "metadata": {},
   "outputs": [
    {
     "name": "stdout",
     "output_type": "stream",
     "text": [
      "1 2 3 "
     ]
    }
   ],
   "source": [
    "for i in np.nditer(arr1):\n",
    "    print(i,end=\" \")"
   ]
  },
  {
   "cell_type": "code",
   "execution_count": 104,
   "id": "c4e2ed72",
   "metadata": {},
   "outputs": [
    {
     "name": "stdout",
     "output_type": "stream",
     "text": [
      "(0,) 1\n",
      "(1,) 2\n",
      "(2,) 3\n"
     ]
    }
   ],
   "source": [
    "for index,value in np.ndenumerate(arr1):\n",
    "    print(index,value)"
   ]
  },
  {
   "cell_type": "code",
   "execution_count": 105,
   "id": "3c94825f",
   "metadata": {},
   "outputs": [
    {
     "name": "stdout",
     "output_type": "stream",
     "text": [
      "1 2 3 4 5 6 "
     ]
    }
   ],
   "source": [
    "for i in np.nditer(arr2):\n",
    "    print(i,end=\" \")"
   ]
  },
  {
   "cell_type": "code",
   "execution_count": 107,
   "id": "df954ac9",
   "metadata": {},
   "outputs": [
    {
     "name": "stdout",
     "output_type": "stream",
     "text": [
      "(0, 0) 1\n",
      "(0, 1) 2\n",
      "(0, 2) 3\n",
      "(1, 0) 4\n",
      "(1, 1) 5\n",
      "(1, 2) 6\n"
     ]
    }
   ],
   "source": [
    "for index,value in np.ndenumerate(arr2):\n",
    "    print(index,value)"
   ]
  },
  {
   "cell_type": "code",
   "execution_count": 115,
   "id": "1a041479",
   "metadata": {},
   "outputs": [
    {
     "name": "stdout",
     "output_type": "stream",
     "text": [
      "[1, 2, 3],\n",
      "[[1, 2, 3], [4, 5, 6]]\n",
      "[1 2 3 4 5 6]\n",
      "[1, 2, 3, 4, 5, 6]\n"
     ]
    }
   ],
   "source": [
    "array = arr1.tolist()\n",
    "array2 = arr2.tolist()\n",
    "print(f\"{array},\\n{array2}\")\n",
    "print(f\"{arr2.flatten()}\")\n",
    "print(f\"{arr2.flatten().tolist()}\")"
   ]
  },
  {
   "cell_type": "code",
   "execution_count": null,
   "id": "775aa36e",
   "metadata": {},
   "outputs": [],
   "source": [
    "Important functions: \n",
    "1] array.copy() \n",
    "2] np.zeros(shape) \n",
    "3] np.ones(shape)\n",
    "4] np.full(shape,value)\n",
    "5] np.append(arr1,arr2,axis=)\n",
    "6] np.concatenate([arr1,arr2,arr3,..,arrN],axis=)\n",
    "7] np.arange(low,high,step_size)\n",
    "8] np.random()\n",
    "  8.1] np.random().rand()\n",
    "  8.2] np.random().randint()\n",
    "  8.3] np.random().ranf()\n",
    "  8.4] np.random().randn()\n",
    "  8.5] np.random().uniform()\n",
    "  8.6] np.random().sample()"
   ]
  },
  {
   "cell_type": "code",
   "execution_count": null,
   "id": "c1f13f83",
   "metadata": {},
   "outputs": [
    {
     "name": "stdout",
     "output_type": "stream",
     "text": [
      "[1 4 3]\n",
      "[1 4 3]\n"
     ]
    }
   ],
   "source": [
    "# 1] array.copy()\n",
    "array1 = np.array([1,2,3])\n",
    "array2 = array1\n",
    "array2[1]=4\n",
    "print(array1)\n",
    "print(array2)\n",
    "# To avoid this we use array.copy()"
   ]
  },
  {
   "cell_type": "code",
   "execution_count": 122,
   "id": "9309d90c",
   "metadata": {},
   "outputs": [
    {
     "name": "stdout",
     "output_type": "stream",
     "text": [
      "[1 2 3]\n",
      "[1 4 3]\n"
     ]
    }
   ],
   "source": [
    "array1 = np.array([1,2,3])\n",
    "array2 = array1.copy()\n",
    "array2[1]=4\n",
    "print(array1)\n",
    "print(array2)"
   ]
  },
  {
   "cell_type": "code",
   "execution_count": null,
   "id": "8c76b1a2",
   "metadata": {},
   "outputs": [],
   "source": [
    "# 2] np.zeros(shape,dtype) - Returns an array of 0 for mentioned shape \n",
    "# 3] np.ones(shape,dtype) - Returns an array of 1 for mentioned shape \n",
    "# 4] np.full(shape,value,dtype) - Returns an array of value for mentioned shape "
   ]
  },
  {
   "cell_type": "code",
   "execution_count": null,
   "id": "b5e32371",
   "metadata": {},
   "outputs": [
    {
     "data": {
      "text/plain": [
       "array([[0, 0, 0],\n",
       "       [0, 0, 0]])"
      ]
     },
     "execution_count": 134,
     "metadata": {},
     "output_type": "execute_result"
    }
   ],
   "source": [
    "a0 = np.zeros((2,3),int) # By default - float \n",
    "a0"
   ]
  },
  {
   "cell_type": "code",
   "execution_count": null,
   "id": "0c93eaae",
   "metadata": {},
   "outputs": [
    {
     "data": {
      "text/plain": [
       "array([[1, 1, 1],\n",
       "       [1, 1, 1]])"
      ]
     },
     "execution_count": 139,
     "metadata": {},
     "output_type": "execute_result"
    }
   ],
   "source": [
    "a1 = np.ones((2,3),int)# By default - float \n",
    "a1\n"
   ]
  },
  {
   "cell_type": "code",
   "execution_count": null,
   "id": "1ed817fa",
   "metadata": {},
   "outputs": [
    {
     "data": {
      "text/plain": [
       "array([[2, 2, 2],\n",
       "       [2, 2, 2]])"
      ]
     },
     "execution_count": 141,
     "metadata": {},
     "output_type": "execute_result"
    }
   ],
   "source": [
    "a2 = np.full((2,3),2)# By default - int \n",
    "a2\n"
   ]
  },
  {
   "cell_type": "code",
   "execution_count": 146,
   "id": "9ea4e600",
   "metadata": {},
   "outputs": [],
   "source": [
    "import pandas as pd "
   ]
  },
  {
   "cell_type": "code",
   "execution_count": 159,
   "id": "0b7162f2",
   "metadata": {},
   "outputs": [
    {
     "name": "stdout",
     "output_type": "stream",
     "text": [
      "[[1 2 3 4]\n",
      " [5 6 7 8]\n",
      " [1 2 3 4]\n",
      " [5 6 7 8]]\n"
     ]
    },
    {
     "data": {
      "text/html": [
       "<div>\n",
       "<style scoped>\n",
       "    .dataframe tbody tr th:only-of-type {\n",
       "        vertical-align: middle;\n",
       "    }\n",
       "\n",
       "    .dataframe tbody tr th {\n",
       "        vertical-align: top;\n",
       "    }\n",
       "\n",
       "    .dataframe thead th {\n",
       "        text-align: right;\n",
       "    }\n",
       "</style>\n",
       "<table border=\"1\" class=\"dataframe\">\n",
       "  <thead>\n",
       "    <tr style=\"text-align: right;\">\n",
       "      <th></th>\n",
       "      <th>0</th>\n",
       "      <th>1</th>\n",
       "      <th>2</th>\n",
       "      <th>3</th>\n",
       "    </tr>\n",
       "  </thead>\n",
       "  <tbody>\n",
       "    <tr>\n",
       "      <th>0</th>\n",
       "      <td>1</td>\n",
       "      <td>2</td>\n",
       "      <td>3</td>\n",
       "      <td>4</td>\n",
       "    </tr>\n",
       "    <tr>\n",
       "      <th>1</th>\n",
       "      <td>5</td>\n",
       "      <td>6</td>\n",
       "      <td>7</td>\n",
       "      <td>8</td>\n",
       "    </tr>\n",
       "    <tr>\n",
       "      <th>2</th>\n",
       "      <td>1</td>\n",
       "      <td>2</td>\n",
       "      <td>3</td>\n",
       "      <td>4</td>\n",
       "    </tr>\n",
       "    <tr>\n",
       "      <th>3</th>\n",
       "      <td>5</td>\n",
       "      <td>6</td>\n",
       "      <td>7</td>\n",
       "      <td>8</td>\n",
       "    </tr>\n",
       "  </tbody>\n",
       "</table>\n",
       "</div>"
      ],
      "text/plain": [
       "   0  1  2  3\n",
       "0  1  2  3  4\n",
       "1  5  6  7  8\n",
       "2  1  2  3  4\n",
       "3  5  6  7  8"
      ]
     },
     "execution_count": 159,
     "metadata": {},
     "output_type": "execute_result"
    }
   ],
   "source": [
    "arr1 = np.array([[1,2,3,4],[5,6,7,8]])\n",
    "arr2 = np.array([[1,2,3,4],[5,6,7,8]])\n",
    "target = np.append(arr1,arr2,axis=0)\n",
    "print(target)\n",
    "pd.DataFrame(target)"
   ]
  },
  {
   "cell_type": "code",
   "execution_count": 160,
   "id": "685d7806",
   "metadata": {},
   "outputs": [
    {
     "name": "stdout",
     "output_type": "stream",
     "text": [
      "[[1 2 3 4 1 2 3 4]\n",
      " [5 6 7 8 5 6 7 8]]\n"
     ]
    },
    {
     "data": {
      "text/html": [
       "<div>\n",
       "<style scoped>\n",
       "    .dataframe tbody tr th:only-of-type {\n",
       "        vertical-align: middle;\n",
       "    }\n",
       "\n",
       "    .dataframe tbody tr th {\n",
       "        vertical-align: top;\n",
       "    }\n",
       "\n",
       "    .dataframe thead th {\n",
       "        text-align: right;\n",
       "    }\n",
       "</style>\n",
       "<table border=\"1\" class=\"dataframe\">\n",
       "  <thead>\n",
       "    <tr style=\"text-align: right;\">\n",
       "      <th></th>\n",
       "      <th>0</th>\n",
       "      <th>1</th>\n",
       "      <th>2</th>\n",
       "      <th>3</th>\n",
       "      <th>4</th>\n",
       "      <th>5</th>\n",
       "      <th>6</th>\n",
       "      <th>7</th>\n",
       "    </tr>\n",
       "  </thead>\n",
       "  <tbody>\n",
       "    <tr>\n",
       "      <th>0</th>\n",
       "      <td>1</td>\n",
       "      <td>2</td>\n",
       "      <td>3</td>\n",
       "      <td>4</td>\n",
       "      <td>1</td>\n",
       "      <td>2</td>\n",
       "      <td>3</td>\n",
       "      <td>4</td>\n",
       "    </tr>\n",
       "    <tr>\n",
       "      <th>1</th>\n",
       "      <td>5</td>\n",
       "      <td>6</td>\n",
       "      <td>7</td>\n",
       "      <td>8</td>\n",
       "      <td>5</td>\n",
       "      <td>6</td>\n",
       "      <td>7</td>\n",
       "      <td>8</td>\n",
       "    </tr>\n",
       "  </tbody>\n",
       "</table>\n",
       "</div>"
      ],
      "text/plain": [
       "   0  1  2  3  4  5  6  7\n",
       "0  1  2  3  4  1  2  3  4\n",
       "1  5  6  7  8  5  6  7  8"
      ]
     },
     "execution_count": 160,
     "metadata": {},
     "output_type": "execute_result"
    }
   ],
   "source": [
    "arr1 = np.array([[1,2,3,4],[5,6,7,8]])\n",
    "arr2 = np.array([[1,2,3,4],[5,6,7,8]])\n",
    "target = np.append(arr1,arr2,axis=1)\n",
    "print(target)\n",
    "pd.DataFrame(target)"
   ]
  },
  {
   "cell_type": "code",
   "execution_count": 165,
   "id": "fd8fc919",
   "metadata": {},
   "outputs": [
    {
     "name": "stdout",
     "output_type": "stream",
     "text": [
      "[0 0 0 0 0] [1 1 1 1 1] [2 2 2 2 2]\n"
     ]
    },
    {
     "data": {
      "text/plain": [
       "array([0, 0, 0, 0, 0, 1, 1, 1, 1, 1, 2, 2, 2, 2, 2])"
      ]
     },
     "execution_count": 165,
     "metadata": {},
     "output_type": "execute_result"
    }
   ],
   "source": [
    "#np.concatenate - Join 2 or multiple arrays\n",
    "arr0 = np.zeros(5,int)\n",
    "arr1 = np.ones(5,int)\n",
    "arr2 = np.full(5,2)\n",
    "print(arr0,arr1,arr2)\n",
    "target = np.concatenate([arr0,arr1,arr2])\n",
    "target\n",
    "#pd.DataFrame(target)"
   ]
  },
  {
   "cell_type": "code",
   "execution_count": 170,
   "id": "c74a508b",
   "metadata": {},
   "outputs": [
    {
     "data": {
      "text/plain": [
       "array([[ 1,  4,  3,  0],\n",
       "       [ 3,  9,  1,  4],\n",
       "       [19, 18, 15, 16],\n",
       "       [18, 11, 10, 19],\n",
       "       [24, 24, 24, 25],\n",
       "       [23, 21, 29, 28]], dtype=int32)"
      ]
     },
     "execution_count": 170,
     "metadata": {},
     "output_type": "execute_result"
    }
   ],
   "source": [
    "arr1 = np.random.randint(0,10,(2,4))\n",
    "arr2 = np.random.randint(10,20,(2,4))\n",
    "arr3 = np.random.randint(20,30,(2,4))\n",
    "target = np.concatenate([arr1,arr2,arr3],axis=0)\n",
    "target"
   ]
  },
  {
   "cell_type": "code",
   "execution_count": 171,
   "id": "512925fb",
   "metadata": {},
   "outputs": [
    {
     "data": {
      "text/plain": [
       "array([[ 1,  4,  3,  0, 19, 18, 15, 16, 24, 24, 24, 25],\n",
       "       [ 3,  9,  1,  4, 18, 11, 10, 19, 23, 21, 29, 28]], dtype=int32)"
      ]
     },
     "execution_count": 171,
     "metadata": {},
     "output_type": "execute_result"
    }
   ],
   "source": [
    "target = np.concatenate([arr1,arr2,arr3],axis=1)\n",
    "target"
   ]
  },
  {
   "cell_type": "code",
   "execution_count": 172,
   "id": "070712bf",
   "metadata": {},
   "outputs": [
    {
     "name": "stdout",
     "output_type": "stream",
     "text": [
      "0 2 4 6 8 "
     ]
    }
   ],
   "source": [
    "for i in np.arange(0,10,2):\n",
    "    print(i,end=\" \")"
   ]
  },
  {
   "cell_type": "code",
   "execution_count": 192,
   "id": "70d11fe1",
   "metadata": {},
   "outputs": [
    {
     "name": "stdout",
     "output_type": "stream",
     "text": [
      "0.0 0.1 0.2 0.3 0.4 0.5 0.6 0.7 0.8 0.9 "
     ]
    }
   ],
   "source": [
    "for i in np.arange(0,1,0.1):\n",
    "    print(np.around(i,1),end=\" \")"
   ]
  },
  {
   "cell_type": "code",
   "execution_count": null,
   "id": "959715d1",
   "metadata": {},
   "outputs": [],
   "source": [
    "range vs arange \n",
    "1] range returns a range object, while arange function returns a numpy array \n",
    "2] range is a built-in function in python while arange in numpy function \n",
    "3] range function can generate only integer values while arange function can be used to generate floating point arrays as well\n",
    " as integer values \n",
    "4] arange performs faster than range \n",
    "5] arange takes less memory space than range"
   ]
  },
  {
   "cell_type": "code",
   "execution_count": null,
   "id": "4ca05237",
   "metadata": {},
   "outputs": [],
   "source": [
    "np.random.rand(size=) - It generates random floating values between 0 and 1 \n",
    "np.random.ranf(size=) - It generates random floating values between 0 and 1 \n",
    "np.random.sample(size=) - It generates random floating values between 0 and 1 \n",
    "np.random.randint(low=,high=(exclude),size=) - It generates random integers within the specified range \n",
    "np.random.uniform(low=,high=(exclude),size=) - It generates random floating values within the specified range \n",
    "np.random.randn(shape) - It returns samples of normally distributed data"
   ]
  },
  {
   "cell_type": "code",
   "execution_count": null,
   "id": "3ae59fc0",
   "metadata": {},
   "outputs": [
    {
     "name": "stdout",
     "output_type": "stream",
     "text": [
      "[[0.54491405 0.92563902 0.29538213]\n",
      " [0.38942477 0.45251368 0.44740819]]\n",
      "[[0.0452094  0.53636698 0.77871143]\n",
      " [0.80604707 0.36158531 0.80776621]]\n",
      "[[0.01018178 0.14187774 0.53793516]\n",
      " [0.62999476 0.1080919  0.19323805]]\n"
     ]
    }
   ],
   "source": [
    "float1 = np.random.rand(2,3) # No need to pass shape as tuple\n",
    "float2 = np.random.ranf((2,3)) # Shape as tuple \n",
    "float3 = np.random.sample((2,3)) # Shape as tuple \n",
    "print(float1)\n",
    "print(float2)\n",
    "print(float3)"
   ]
  },
  {
   "cell_type": "code",
   "execution_count": 189,
   "id": "11fb18a4",
   "metadata": {},
   "outputs": [
    {
     "data": {
      "text/plain": [
       "array([[250260, 514883],\n",
       "       [682956, 395595]], dtype=int32)"
      ]
     },
     "execution_count": 189,
     "metadata": {},
     "output_type": "execute_result"
    }
   ],
   "source": [
    "np.random.randint(100000,999999,(2,2))"
   ]
  },
  {
   "cell_type": "code",
   "execution_count": 193,
   "id": "0a3e2e37",
   "metadata": {},
   "outputs": [
    {
     "data": {
      "text/plain": [
       "array([[133263.26326443, 462646.25954163],\n",
       "       [849546.65781721, 358453.78323663]])"
      ]
     },
     "execution_count": 193,
     "metadata": {},
     "output_type": "execute_result"
    }
   ],
   "source": [
    "np.random.uniform(100000,999999,(2,2))"
   ]
  },
  {
   "cell_type": "code",
   "execution_count": 198,
   "id": "08c14f7e",
   "metadata": {},
   "outputs": [
    {
     "data": {
      "text/plain": [
       "array([-0.23942799,  0.71744208, -0.91123776, -0.41671588, -0.23922803,\n",
       "       -0.17673163, -1.04747258,  0.3794564 ,  0.80770044,  1.37174393])"
      ]
     },
     "execution_count": 198,
     "metadata": {},
     "output_type": "execute_result"
    }
   ],
   "source": [
    "np.random.randn(10)"
   ]
  },
  {
   "cell_type": "code",
   "execution_count": null,
   "id": "f7f5335d",
   "metadata": {},
   "outputs": [],
   "source": [
    "Math functions: \n",
    "1] np.around(array,decimals=) - Rounds an array to the given number of decimals \n",
    "2] np.floor(array) - Returns the floor of the input,element-wise\n",
    "3] np.ceil(array) - Returns the ceiling of the input,element-wise\n",
    "4] np.add(array1,array2) - Add arguments element-wise\n",
    "5] np.multiply(array1,array2) - Multiply arguments element-wise \n",
    "6] np.dot(array1,array2) - Dot product of 2 matrices(Scalar product)\n",
    "7] np.sqrt(array1) - Returns the non-negative square root of an array, element-wise\n",
    "8] np.cbrt(array2) - Returns the cube root of an array,element-wise "
   ]
  },
  {
   "cell_type": "code",
   "execution_count": null,
   "id": "2d760520",
   "metadata": {},
   "outputs": [
    {
     "name": "stdout",
     "output_type": "stream",
     "text": [
      "Round: [1.35 2.37 3.28 4.28 5.29]\n",
      "Floor: [1. 2. 3. 4. 5.]\n",
      "Ceil: [2. 3. 4. 5. 6.]\n"
     ]
    }
   ],
   "source": [
    "print(\"Round:\",np.around(np.array((1.35,2.367,3.28282,4.2828282,5.29292)),2))\n",
    "print(\"Floor:\",np.floor(np.array((1.35,2.367,3.28282,4.2828282,5.29292)))) \n",
    "print(\"Ceil:\",np.ceil(np.array((1.35,2.367,3.28282,4.2828282,5.29292))))"
   ]
  },
  {
   "cell_type": "code",
   "execution_count": 206,
   "id": "b86c2808",
   "metadata": {},
   "outputs": [
    {
     "ename": "ValueError",
     "evalue": "operands could not be broadcast together with shapes (2,) (3,) ",
     "output_type": "error",
     "traceback": [
      "\u001b[31m---------------------------------------------------------------------------\u001b[39m",
      "\u001b[31mValueError\u001b[39m                                Traceback (most recent call last)",
      "\u001b[36mCell\u001b[39m\u001b[36m \u001b[39m\u001b[32mIn[206]\u001b[39m\u001b[32m, line 1\u001b[39m\n\u001b[32m----> \u001b[39m\u001b[32m1\u001b[39m \u001b[38;5;28mprint\u001b[39m(np.add(np.array((\u001b[32m1\u001b[39m,\u001b[32m2\u001b[39m)),np.array((\u001b[32m2\u001b[39m,\u001b[32m3\u001b[39m,\u001b[32m5\u001b[39m))))\n",
      "\u001b[31mValueError\u001b[39m: operands could not be broadcast together with shapes (2,) (3,) "
     ]
    }
   ],
   "source": [
    "print(np.add(np.array((1,2)),np.array((2,3,5))))"
   ]
  },
  {
   "cell_type": "code",
   "execution_count": 205,
   "id": "0473fc8e",
   "metadata": {},
   "outputs": [
    {
     "name": "stdout",
     "output_type": "stream",
     "text": [
      "7\n",
      "[5 6]\n",
      "[3 5]\n"
     ]
    }
   ],
   "source": [
    "print(np.add(np.array(3),np.array(4)))\n",
    "print(np.add(np.array((1,2)),np.array(4)))\n",
    "print(np.add(np.array((1,2)),np.array((2,3))))"
   ]
  },
  {
   "cell_type": "code",
   "execution_count": 207,
   "id": "325174ef",
   "metadata": {},
   "outputs": [
    {
     "name": "stdout",
     "output_type": "stream",
     "text": [
      "12\n",
      "[4 8]\n",
      "[2 6]\n"
     ]
    }
   ],
   "source": [
    "print(np.multiply(np.array(3),np.array(4)))\n",
    "print(np.multiply(np.array((1,2)),np.array(4)))\n",
    "print(np.multiply(np.array((1,2)),np.array((2,3))))"
   ]
  },
  {
   "cell_type": "code",
   "execution_count": null,
   "id": "4c69075f",
   "metadata": {},
   "outputs": [],
   "source": [
    "np.dot() # (1st columns = 2nd rows) ixj jxk = ixk\n",
    "[a b f  [a\n",
    " d e g]  b\n",
    "2 x 3    c]\n",
    "         3 x 1 = [a*a + b*b +f*c\n",
    "                  d*a + e*b +g*c] 2x1"
   ]
  },
  {
   "cell_type": "code",
   "execution_count": null,
   "id": "8261c466",
   "metadata": {},
   "outputs": [
    {
     "data": {
      "text/plain": [
       "array([[36],\n",
       "       [84]])"
      ]
     },
     "execution_count": 209,
     "metadata": {},
     "output_type": "execute_result"
    }
   ],
   "source": [
    "arr1 = np.array([[1,2,3],[4,5,6]]) 2x3\n",
    "arr2 = np.array(([[3],[6],[7]])) 3x1\n",
    "np.dot(arr1,arr2) #2x1 3+12+21=36,12+30+42=84"
   ]
  },
  {
   "cell_type": "code",
   "execution_count": 210,
   "id": "1598fb49",
   "metadata": {},
   "outputs": [
    {
     "data": {
      "text/plain": [
       "array([ 2.        ,  3.        ,  4.        ,  5.        ,  6.        ,\n",
       "        7.        ,  8.        ,  9.        , 10.        , 11.        ,\n",
       "       12.        , 13.        ,  8.36660027])"
      ]
     },
     "execution_count": 210,
     "metadata": {},
     "output_type": "execute_result"
    }
   ],
   "source": [
    "np.sqrt(np.array((4,9,16,25,36,49,64,81,100,121,144,169,70)))"
   ]
  },
  {
   "cell_type": "code",
   "execution_count": 212,
   "id": "668a4541",
   "metadata": {},
   "outputs": [
    {
     "data": {
      "text/plain": [
       "array([1.58740105, 2.08008382, 2.5198421 , 2.92401774, 3.30192725,\n",
       "       3.65930571, 4.        , 4.32674871, 4.64158883, 4.94608744,\n",
       "       5.24148279, 5.52877481, 4.1212853 ])"
      ]
     },
     "execution_count": 212,
     "metadata": {},
     "output_type": "execute_result"
    }
   ],
   "source": [
    "np.cbrt(np.array((4,9,16,25,36,49,64,81,100,121,144,169,70)))"
   ]
  },
  {
   "cell_type": "code",
   "execution_count": 215,
   "id": "6b308827",
   "metadata": {},
   "outputs": [
    {
     "data": {
      "text/plain": [
       "array([ 2. , 11. ,  3.5,  4.2, 30. ])"
      ]
     },
     "execution_count": 215,
     "metadata": {},
     "output_type": "execute_result"
    }
   ],
   "source": [
    "np.abs(np.array((-2,11,-3.5,4.2,-30)))"
   ]
  },
  {
   "cell_type": "code",
   "execution_count": null,
   "id": "c826f325",
   "metadata": {},
   "outputs": [],
   "source": [
    "Statistical Functions"
   ]
  },
  {
   "cell_type": "code",
   "execution_count": null,
   "id": "d850e25e",
   "metadata": {},
   "outputs": [],
   "source": [
    "1] np.max(array,axis=) - Returns the maximum of an array or maximum along axis \n",
    "2] np.min(array,axis=) - Returns the minimum of an array or minimum along axis \n",
    "3] np.sum(array,axis=) - Compute the sum along the specified axis\n",
    "4] np.mean(array,axis=) - Compute the arithmetic mean along the specified axis\n",
    "5] np.median(array,axis=) - Compute the median along the specified axis\n",
    "6] np.var(array,axis=) - Compute the variance along the specified axis\n",
    "7] np.std(array,axis=) - Compute the standard deviation along the specified axis\n",
    "8] np.percentile(array,q,axis=) - Compute the qth percentile along the specified axis\n",
    "9] np.quantile(array,q,axis=) - Compute the qth quantile along the specified axis\n",
    "10] np.nanmax(array,axis=)\n",
    "11] np.nanmin(array,axis=)\n",
    "12] np.nansum(array,axis=)\n",
    "13] np.nanmean(array,axis=)\n",
    "14] np.nanmedian(array,axis=)\n",
    "15] np.nanvar(array,axis=)\n",
    "16] np.nanstd(array,axis=)\n",
    "17] np.nanpercentile(array,axis=)\n",
    "18] np.nanquantile(array,axis=)"
   ]
  },
  {
   "cell_type": "code",
   "execution_count": 220,
   "id": "e94fc82d",
   "metadata": {},
   "outputs": [
    {
     "name": "stdout",
     "output_type": "stream",
     "text": [
      "Maximum of an array:  112\n",
      "Minimum of an array:  1\n",
      "Sum of an array:  350\n",
      "Mean of an array:  50.0\n",
      "Median of an array:  45.0\n",
      "Variance of an array:  1402.0\n",
      "Standard deviation of an array:  37.44329045369811\n",
      "Percentile of an array:  21.0\n",
      "Quantile of an array:  21.0\n"
     ]
    }
   ],
   "source": [
    "print(\"Maximum of an array: \",np.max(np.array([30,12,60,1,45,90,112])))\n",
    "print(\"Minimum of an array: \",np.min(np.array([30,12,60,1,45,90,112])))\n",
    "print(\"Sum of an array: \",np.sum(np.array([30,12,60,1,45,90,112])))\n",
    "print(\"Mean of an array: \",np.mean(np.array([30,12,60,1,45,90,112])))\n",
    "print(\"Median of an array: \",np.median(np.array([30,12,60,1,45,90,112]))) #- Even - (n/2th + n/2th+1)/2\n",
    "print(\"Variance of an array: \",np.var(np.array([30,12,60,1,45,90,112]))) \n",
    "# Var = sum(Xi - Xmean)**2/N \n",
    "# std = sqrt(var)\n",
    "print(\"Standard deviation of an array: \",np.std(np.array([30,12,60,1,45,90,112]))) \n",
    "print(\"Percentile of an array: \",np.percentile(np.array([30,12,60,1,45,90,112]),25))\n",
    "print(\"Quantile of an array: \",np.quantile(np.array([30,12,60,1,45,90,112]),0.25)) \n"
   ]
  },
  {
   "cell_type": "code",
   "execution_count": null,
   "id": "cfed9d15",
   "metadata": {},
   "outputs": [],
   "source": [
    "np.nan - To introduce missing values "
   ]
  },
  {
   "cell_type": "code",
   "execution_count": null,
   "id": "659e0728",
   "metadata": {},
   "outputs": [
    {
     "name": "stdout",
     "output_type": "stream",
     "text": [
      "Maximum of an array:  nan\n",
      "Minimum of an array:  nan\n",
      "Sum of an array:  nan\n",
      "Mean of an array:  nan\n",
      "Median of an array:  nan\n",
      "Variance of an array:  nan\n",
      "Standard deviation of an array:  nan\n",
      "Percentile of an array:  nan\n",
      "Quantile of an array:  nan\n"
     ]
    }
   ],
   "source": [
    "print(\"Maximum of an array: \",np.max(np.array([30,12,60,1,45,90,112,np.nan])))\n",
    "print(\"Minimum of an array: \",np.min(np.array([30,12,60,1,45,90,112,np.nan])))\n",
    "print(\"Sum of an array: \",np.sum(np.array([30,12,60,1,45,90,112,np.nan])))\n",
    "print(\"Mean of an array: \",np.mean(np.array([30,12,60,1,45,90,112,np.nan])))\n",
    "print(\"Median of an array: \",np.median(np.array([30,12,60,1,45,90,112,np.nan]))) #- Even - (n/2th + n/2th+1)/2\n",
    "print(\"Variance of an array: \",np.var(np.array([30,12,60,1,45,90,112,np.nan]))) \n",
    "# Var = sum(Xi - Xmean)**2/N \n",
    "# std = sqrt(var)\n",
    "print(\"Standard deviation of an array: \",np.std(np.array([30,12,60,1,45,90,112,np.nan]))) \n",
    "print(\"Percentile of an array: \",np.percentile(np.array([30,12,60,1,45,90,112,np.nan]),25))\n",
    "print(\"Quantile of an array: \",np.quantile(np.array([30,12,60,1,45,90,112,np.nan]),0.25)) \n"
   ]
  },
  {
   "cell_type": "code",
   "execution_count": 223,
   "id": "24160f79",
   "metadata": {},
   "outputs": [
    {
     "name": "stdout",
     "output_type": "stream",
     "text": [
      "Maximum of an array:  112.0\n",
      "Minimum of an array:  1.0\n",
      "Sum of an array:  350.0\n",
      "Mean of an array:  50.0\n",
      "Median of an array:  45.0\n",
      "Variance of an array:  1402.0\n",
      "Standard deviation of an array:  37.44329045369811\n",
      "Percentile of an array:  21.0\n",
      "Quantile of an array:  21.0\n"
     ]
    }
   ],
   "source": [
    "print(\"Maximum of an array: \",np.nanmax(np.array([30,12,60,1,45,90,112,np.nan])))\n",
    "print(\"Minimum of an array: \",np.nanmin(np.array([30,12,60,1,45,90,112,np.nan])))\n",
    "print(\"Sum of an array: \",np.nansum(np.array([30,12,60,1,45,90,112,np.nan])))\n",
    "print(\"Mean of an array: \",np.nanmean(np.array([30,12,60,1,45,90,112,np.nan])))\n",
    "print(\"Median of an array: \",np.nanmedian(np.array([30,12,60,1,45,90,112,np.nan]))) #- Even - (n/2th + n/2th+1)/2\n",
    "print(\"Variance of an array: \",np.nanvar(np.array([30,12,60,1,45,90,112,np.nan]))) \n",
    "# Var = sum(Xi - Xmean)**2/N \n",
    "# std = sqrt(var)\n",
    "print(\"Standard deviation of an array: \",np.nanstd(np.array([30,12,60,1,45,90,112,np.nan]))) \n",
    "print(\"Percentile of an array: \",np.nanpercentile(np.array([30,12,60,1,45,90,112,np.nan]),25))\n",
    "print(\"Quantile of an array: \",np.nanquantile(np.array([30,12,60,1,45,90,112,np.nan]),0.25)) \n"
   ]
  },
  {
   "cell_type": "code",
   "execution_count": 228,
   "id": "29f767eb",
   "metadata": {},
   "outputs": [
    {
     "data": {
      "text/plain": [
       "ModeResult(mode=np.int64(1), count=np.int64(6))"
      ]
     },
     "execution_count": 228,
     "metadata": {},
     "output_type": "execute_result"
    }
   ],
   "source": [
    "from scipy.stats import mode as m # Most frequenct occuring element \n",
    "m(np.array([3,2,1,2,1,2,1,2,1,2,3,3,3,3,1,1]))"
   ]
  },
  {
   "cell_type": "code",
   "execution_count": null,
   "id": "57a277fe",
   "metadata": {},
   "outputs": [],
   "source": [
    "Linear Algebra Functions "
   ]
  },
  {
   "cell_type": "code",
   "execution_count": null,
   "id": "042eb0f1",
   "metadata": {},
   "outputs": [],
   "source": [
    "1] np.linalg.solve(arrA,arrB)\n",
    "- Used to solve linear equations of n variables \n",
    "If n is 2 - 2 equations \n",
    "If n is 3 - 3 equations \n",
    "Number of variables = Number of equations \n",
    "2x + 3y = 10\n",
    "5x + 8y = 30 \n",
    "arrA - coefficients\n",
    "arrB - constant "
   ]
  },
  {
   "cell_type": "code",
   "execution_count": 229,
   "id": "b06f4c8b",
   "metadata": {},
   "outputs": [
    {
     "data": {
      "text/plain": [
       "array([-10.,  10.])"
      ]
     },
     "execution_count": 229,
     "metadata": {},
     "output_type": "execute_result"
    }
   ],
   "source": [
    "arrA = np.array([[2,3],[5,8]])\n",
    "arrB = np.array([10,30])\n",
    "np.linalg.solve(arrA,arrB)"
   ]
  },
  {
   "cell_type": "code",
   "execution_count": null,
   "id": "c2a463a3",
   "metadata": {},
   "outputs": [],
   "source": [
    "# 2] Determinant of a matrix\n",
    "a b \n",
    "c d - ad - bc"
   ]
  },
  {
   "cell_type": "code",
   "execution_count": 230,
   "id": "af0cd633",
   "metadata": {},
   "outputs": [
    {
     "data": {
      "text/plain": [
       "np.float64(1.0000000000000009)"
      ]
     },
     "execution_count": 230,
     "metadata": {},
     "output_type": "execute_result"
    }
   ],
   "source": [
    "np.linalg.det(arrA)"
   ]
  },
  {
   "cell_type": "code",
   "execution_count": null,
   "id": "e0b61660",
   "metadata": {},
   "outputs": [],
   "source": [
    "# 3] Transpose of a matrix \n",
    "a b - a c\n",
    "c d   b d"
   ]
  },
  {
   "cell_type": "code",
   "execution_count": null,
   "id": "b15323f5",
   "metadata": {},
   "outputs": [
    {
     "data": {
      "text/plain": [
       "array([[2, 5],\n",
       "       [3, 8]])"
      ]
     },
     "execution_count": 231,
     "metadata": {},
     "output_type": "execute_result"
    }
   ],
   "source": [
    "np.linalg.matrix_transpose(arrA)"
   ]
  },
  {
   "cell_type": "code",
   "execution_count": null,
   "id": "f7d463a7",
   "metadata": {},
   "outputs": [],
   "source": [
    "# 4 Inverse of a matrix: \n",
    "A**-1 = adj(A)/|A|\n",
    "adj(A) = [d -b\n",
    "         -c  a] "
   ]
  },
  {
   "cell_type": "code",
   "execution_count": 232,
   "id": "a4351c27",
   "metadata": {},
   "outputs": [
    {
     "data": {
      "text/plain": [
       "array([[ 8., -3.],\n",
       "       [-5.,  2.]])"
      ]
     },
     "execution_count": 232,
     "metadata": {},
     "output_type": "execute_result"
    }
   ],
   "source": [
    "np.linalg.inv(arrA)"
   ]
  },
  {
   "cell_type": "code",
   "execution_count": 235,
   "id": "1b777f1a",
   "metadata": {},
   "outputs": [
    {
     "data": {
      "text/plain": [
       "array([0.10102051, 9.89897949])"
      ]
     },
     "execution_count": 235,
     "metadata": {},
     "output_type": "execute_result"
    }
   ],
   "source": [
    "# 5] Eigen values and eigen vectors \n",
    "eigen_values = np.linalg.eigvals(arrA)\n",
    "eigen_values"
   ]
  },
  {
   "cell_type": "code",
   "execution_count": 237,
   "id": "926a1a3b",
   "metadata": {},
   "outputs": [
    {
     "data": {
      "text/plain": [
       "array([[-0.84494897, -0.35505103],\n",
       "       [ 0.53484692, -0.93484692]])"
      ]
     },
     "execution_count": 237,
     "metadata": {},
     "output_type": "execute_result"
    }
   ],
   "source": [
    "eigen_values,eigen_vectors = np.linalg.eig(arrA)\n",
    "eigen_vectors"
   ]
  },
  {
   "cell_type": "code",
   "execution_count": null,
   "id": "22ba8de3",
   "metadata": {},
   "outputs": [],
   "source": [
    "# 6] Polynomial equations\n",
    "Polynomial equation is a combination of variables and coefficients set equal to 0 \n",
    "degree: power\n",
    "Equation with degree 1: ax + b = 0\n",
    "Equation with degree 2: ax**2 +bx + c = 0 \n",
    "Equation  with degree 3: ax**3 + bx**2 + cx+d ==0"
   ]
  },
  {
   "cell_type": "code",
   "execution_count": 238,
   "id": "ca1605b4",
   "metadata": {},
   "outputs": [
    {
     "data": {
      "text/latex": [
       "$x \\mapsto \\text{6.0} + \\text{27.0}\\,x + \\text{3.0}\\,x^{2}$"
      ],
      "text/plain": [
       "Polynomial([ 6., 27.,  3.], domain=[-1.,  1.], window=[-1.,  1.], symbol='x')"
      ]
     },
     "execution_count": 238,
     "metadata": {},
     "output_type": "execute_result"
    }
   ],
   "source": [
    "c,b,a = 6,27,3\n",
    "eq = np.polynomial.Polynomial([c,b,a])\n",
    "eq"
   ]
  },
  {
   "cell_type": "code",
   "execution_count": null,
   "id": "c4d067e5",
   "metadata": {},
   "outputs": [
    {
     "data": {
      "text/plain": [
       "array([-8.77200187, -0.22799813])"
      ]
     },
     "execution_count": 239,
     "metadata": {},
     "output_type": "execute_result"
    }
   ],
   "source": [
    "eq.roots() - Real roots"
   ]
  },
  {
   "cell_type": "code",
   "execution_count": null,
   "id": "77f1051c",
   "metadata": {},
   "outputs": [],
   "source": [
    "Roots can be real or imaginary(complex)"
   ]
  },
  {
   "cell_type": "code",
   "execution_count": null,
   "id": "df2edfed",
   "metadata": {},
   "outputs": [],
   "source": [
    "7] Identity Matrix - Square Matrix "
   ]
  },
  {
   "cell_type": "code",
   "execution_count": 240,
   "id": "4d57cbd2",
   "metadata": {},
   "outputs": [
    {
     "data": {
      "text/plain": [
       "array([[1., 0., 0.],\n",
       "       [0., 1., 0.],\n",
       "       [0., 0., 1.]])"
      ]
     },
     "execution_count": 240,
     "metadata": {},
     "output_type": "execute_result"
    }
   ],
   "source": [
    "np.identity(3) # We always pass a single integer "
   ]
  },
  {
   "cell_type": "code",
   "execution_count": null,
   "id": "0c3f2b5a",
   "metadata": {},
   "outputs": [],
   "source": [
    "8] np.eye- Diagonal elements will be 1 rest will be 0 "
   ]
  },
  {
   "cell_type": "code",
   "execution_count": 242,
   "id": "7840c5f1",
   "metadata": {},
   "outputs": [
    {
     "data": {
      "text/plain": [
       "array([[1., 0., 0., 0., 0., 0.],\n",
       "       [0., 1., 0., 0., 0., 0.],\n",
       "       [0., 0., 1., 0., 0., 0.],\n",
       "       [0., 0., 0., 1., 0., 0.],\n",
       "       [0., 0., 0., 0., 1., 0.]])"
      ]
     },
     "execution_count": 242,
     "metadata": {},
     "output_type": "execute_result"
    }
   ],
   "source": [
    "np.eye(5,6)"
   ]
  },
  {
   "cell_type": "code",
   "execution_count": null,
   "id": "fe0ef273",
   "metadata": {},
   "outputs": [],
   "source": [
    "Trigonometry Functions"
   ]
  },
  {
   "cell_type": "code",
   "execution_count": null,
   "id": "427d2c0a",
   "metadata": {},
   "outputs": [],
   "source": [
    "np.pi # pi=3.14..., pi is in radian\n",
    "1pi = 180 degree\n",
    "2pi = 360 degree \n",
    "pi/2 = 90 degree\n",
    "pi/3 = 60 degree\n",
    "pi/4 = 45 degree \n",
    "pi/6 = 30 degree"
   ]
  },
  {
   "cell_type": "code",
   "execution_count": 244,
   "id": "0b3ab41b",
   "metadata": {},
   "outputs": [
    {
     "name": "stdout",
     "output_type": "stream",
     "text": [
      "0.5235987755982988\n"
     ]
    },
    {
     "data": {
      "text/plain": [
       "np.float64(29.999999999999996)"
      ]
     },
     "execution_count": 244,
     "metadata": {},
     "output_type": "execute_result"
    }
   ],
   "source": [
    "# Degree 2 radian \n",
    "print(np.deg2rad(30))\n",
    "# Radian 2 degree\n",
    "np.rad2deg(0.5235987755982988)"
   ]
  },
  {
   "cell_type": "code",
   "execution_count": null,
   "id": "39b39710",
   "metadata": {},
   "outputs": [
    {
     "name": "stdout",
     "output_type": "stream",
     "text": [
      "0.05233595624294383\n",
      "0.9986295347545738\n",
      "0.052407779283041196\n"
     ]
    }
   ],
   "source": [
    "print(np.sin(np.pi/60))\n",
    "print(np.cos(np.pi/60))\n",
    "print(np.tan(np.pi/60))\n",
    "cosec=1/sin \n",
    "sec=1/cos \n",
    "cot=1/tan"
   ]
  },
  {
   "cell_type": "code",
   "execution_count": null,
   "id": "4e213aca",
   "metadata": {},
   "outputs": [],
   "source": [
    "Set(Numpy functions)"
   ]
  },
  {
   "cell_type": "code",
   "execution_count": null,
   "id": "b011e978",
   "metadata": {},
   "outputs": [],
   "source": [
    "1] np.unique(array) - Find the unique elements of an array"
   ]
  },
  {
   "cell_type": "code",
   "execution_count": 248,
   "id": "c0c08062",
   "metadata": {},
   "outputs": [
    {
     "data": {
      "text/plain": [
       "array([1, 2, 3])"
      ]
     },
     "execution_count": 248,
     "metadata": {},
     "output_type": "execute_result"
    }
   ],
   "source": [
    "np.unique(np.array([3,2,1,2,1,2,1,2,1,2,3,3,3,3,1,1]))"
   ]
  },
  {
   "cell_type": "code",
   "execution_count": 253,
   "id": "36a17d9a",
   "metadata": {},
   "outputs": [
    {
     "name": "stdout",
     "output_type": "stream",
     "text": [
      "Intersection: [4 5 6]\n",
      "Difference of arrayA: [1 2 3]\n",
      "Difference of arrayB: [7 8 9]\n",
      "Symmetric Difference: [1 2 3 7 8 9]\n",
      "Union: [1 2 3 4 5 6 7 8 9]\n"
     ]
    }
   ],
   "source": [
    "arrayA = np.array([1,2,3,4,5,6])\n",
    "arrayB = np.array([4,5,6,7,8,9])\n",
    "print(f\"Intersection: {np.intersect1d(arrayA,arrayB)}\")\n",
    "print(f\"Difference of arrayA: {np.setdiff1d(arrayA,arrayB)}\")\n",
    "print(f\"Difference of arrayB: {np.setdiff1d(arrayB,arrayA)}\")\n",
    "print(f\"Symmetric Difference: {np.setxor1d(arrayA,arrayB)}\")\n",
    "print(f\"Union: {np.union1d(arrayA,arrayB)}\")"
   ]
  },
  {
   "cell_type": "code",
   "execution_count": null,
   "id": "db38f162",
   "metadata": {},
   "outputs": [],
   "source": [
    "Other functions: \n",
    "np.put(array,indices,values) - Replace the array elements - Updates "
   ]
  },
  {
   "cell_type": "code",
   "execution_count": 254,
   "id": "c65dbc63",
   "metadata": {},
   "outputs": [
    {
     "data": {
      "text/plain": [
       "array([1, 2, 3, 4, 5, 6])"
      ]
     },
     "execution_count": 254,
     "metadata": {},
     "output_type": "execute_result"
    }
   ],
   "source": [
    "arrayA = np.array([1,2,3,4,5,6])\n",
    "arrayA"
   ]
  },
  {
   "cell_type": "code",
   "execution_count": 255,
   "id": "e23ac149",
   "metadata": {},
   "outputs": [
    {
     "data": {
      "text/plain": [
       "array([  1, 200,   3,   4, 300,   6])"
      ]
     },
     "execution_count": 255,
     "metadata": {},
     "output_type": "execute_result"
    }
   ],
   "source": [
    "np.put(arrayA,[1,-2],[200,300])\n",
    "arrayA"
   ]
  },
  {
   "cell_type": "code",
   "execution_count": null,
   "id": "268a5cab",
   "metadata": {},
   "outputs": [
    {
     "data": {
      "text/plain": [
       "array([10, 10, 10])"
      ]
     },
     "execution_count": 258,
     "metadata": {},
     "output_type": "execute_result"
    }
   ],
   "source": [
    "# np.repeat(value,n) - Repeats the value n times in an array \n",
    "np.repeat(10,3) # can pass n as integer only - Can only create 1d array"
   ]
  },
  {
   "cell_type": "code",
   "execution_count": null,
   "id": "e7a08adb",
   "metadata": {},
   "outputs": [],
   "source": [
    "Sort function:"
   ]
  },
  {
   "cell_type": "code",
   "execution_count": 261,
   "id": "9a25b653",
   "metadata": {},
   "outputs": [
    {
     "data": {
      "text/plain": [
       "array([  1,  12,  30,  45,  60,  90, 112])"
      ]
     },
     "execution_count": 261,
     "metadata": {},
     "output_type": "execute_result"
    }
   ],
   "source": [
    "arrayA = np.array([30,12,60,1,45,90,112])\n",
    "np.sort(arrayA)"
   ]
  },
  {
   "cell_type": "code",
   "execution_count": 262,
   "id": "b0392da1",
   "metadata": {},
   "outputs": [
    {
     "data": {
      "text/plain": [
       "array([112,  90,  60,  45,  30,  12,   1])"
      ]
     },
     "execution_count": 262,
     "metadata": {},
     "output_type": "execute_result"
    }
   ],
   "source": [
    "# Descending order \n",
    "-np.sort(-arrayA)"
   ]
  },
  {
   "cell_type": "code",
   "execution_count": null,
   "id": "0732c461",
   "metadata": {},
   "outputs": [
    {
     "data": {
      "text/plain": [
       "array([  1,  12,  30,  45,  60,  90, 112])"
      ]
     },
     "execution_count": 264,
     "metadata": {},
     "output_type": "execute_result"
    }
   ],
   "source": [
    "arrayA = np.array([30,12,60,1,45,90,112])\n",
    "arrayA.sort()\n",
    "arrayA"
   ]
  },
  {
   "cell_type": "code",
   "execution_count": null,
   "id": "5397f83a",
   "metadata": {},
   "outputs": [],
   "source": [
    "Logarithmic Functions: \n",
    "To reduce the impact of outliers "
   ]
  },
  {
   "cell_type": "code",
   "execution_count": null,
   "id": "5fe1af47",
   "metadata": {},
   "outputs": [],
   "source": [
    "1] np.log(array) - Natural log \n",
    "2] np.log2(array) - log to the base 2 \n",
    "2] np.log10(array) - log to the base 10"
   ]
  },
  {
   "cell_type": "code",
   "execution_count": 286,
   "id": "b23bdbed",
   "metadata": {},
   "outputs": [
    {
     "name": "stdout",
     "output_type": "stream",
     "text": [
      "****************************************************************************************************\n",
      "Natural log: [3.40119738 2.48490665 4.09434456 3.80666249 4.49980967 4.71849887]\n",
      "Mean from natural log: 3.8342366041779887\n",
      "****************************************************************************************************\n",
      "Log2: [4.9068906  3.5849625  5.9068906  5.4918531  6.4918531  6.80735492]\n",
      "Mean from log2: 5.531634134442524\n",
      "****************************************************************************************************\n",
      "Log10: [1.47712125 1.07918125 1.77815125 1.65321251 1.95424251 2.04921802]\n",
      "Mean from log10: 1.6651877995059634\n",
      "****************************************************************************************************\n",
      "Reciprocal Transformation: [0.03333333 0.08333333 0.01666667 0.02222222 0.01111111 0.00892857]\n",
      "Mean from reciprocal Transformation: 0.029265873015873013\n",
      "****************************************************************************************************\n",
      "Square root Transformation: [ 5.47722558  3.46410162  7.74596669  6.70820393  9.48683298 10.58300524]\n",
      "Mean from Square root Transformation: 7.244222673311188\n",
      "****************************************************************************************************\n",
      "Cube root Transformation: [3.10723251 2.28942849 3.91486764 3.5568933  4.48140475 4.82028453]\n",
      "Mean from Cube root Transformation: 3.695018535271179\n",
      "****************************************************************************************************\n"
     ]
    }
   ],
   "source": [
    "arrayA = np.array([30,12,60,45,90,112])\n",
    "print(\"*\"*100)\n",
    "print(\"Natural log:\",np.log(arrayA))\n",
    "print(\"Mean from natural log:\",np.mean(np.log(arrayA)))\n",
    "print(\"*\"*100)\n",
    "print(\"Log2:\",np.log2(arrayA))\n",
    "print(\"Mean from log2:\",np.mean(np.log2(arrayA)))\n",
    "print(\"*\"*100)\n",
    "print(\"Log10:\",np.log10(arrayA))\n",
    "print(\"Mean from log10:\",np.mean(np.log10(arrayA)))\n",
    "print(\"*\"*100)\n",
    "print(\"Reciprocal Transformation:\",1/arrayA)\n",
    "print(\"Mean from reciprocal Transformation:\",np.mean(1/arrayA)) # Lowest \n",
    "print(\"*\"*100)\n",
    "print(\"Square root Transformation:\",np.sqrt(arrayA))\n",
    "print(\"Mean from Square root Transformation:\",np.mean(np.sqrt(arrayA)))\n",
    "print(\"*\"*100)\n",
    "print(\"Cube root Transformation:\",np.cbrt(arrayA))\n",
    "print(\"Mean from Cube root Transformation:\",np.mean(np.cbrt(arrayA)))\n",
    "print(\"*\"*100)"
   ]
  },
  {
   "cell_type": "code",
   "execution_count": null,
   "id": "dfd89bc3",
   "metadata": {},
   "outputs": [],
   "source": [
    "Important functions in numpy "
   ]
  },
  {
   "cell_type": "code",
   "execution_count": null,
   "id": "8a99e80c",
   "metadata": {},
   "outputs": [],
   "source": [
    "np.where() "
   ]
  },
  {
   "cell_type": "code",
   "execution_count": 287,
   "id": "e8da791f",
   "metadata": {},
   "outputs": [
    {
     "data": {
      "text/plain": [
       "1"
      ]
     },
     "execution_count": 294,
     "metadata": {},
     "output_type": "execute_result"
    }
   ],
   "source": [
    "# Note: To get the index of repeating elements\n",
    "lst = [1,2,3,2,1,1]\n",
    "lst.index(2)# 1 scans from left to right "
   ]
  },
  {
   "cell_type": "code",
   "execution_count": 288,
   "id": "6c05cd47",
   "metadata": {},
   "outputs": [
    {
     "name": "stdout",
     "output_type": "stream",
     "text": [
      "1 3 "
     ]
    }
   ],
   "source": [
    "for i,v in enumerate(lst): \n",
    "    if v==2: print(i,end=\" \")"
   ]
  },
  {
   "cell_type": "code",
   "execution_count": 289,
   "id": "10d481ca",
   "metadata": {},
   "outputs": [
    {
     "data": {
      "text/plain": [
       "[1, 3]"
      ]
     },
     "execution_count": 296,
     "metadata": {},
     "output_type": "execute_result"
    }
   ],
   "source": [
    "[i for i,v in enumerate(lst) if v==2]"
   ]
  },
  {
   "cell_type": "code",
   "execution_count": 290,
   "id": "1f999c6b",
   "metadata": {},
   "outputs": [
    {
     "data": {
      "text/plain": [
       "[(1,), (3,)]"
      ]
     },
     "execution_count": 297,
     "metadata": {},
     "output_type": "execute_result"
    }
   ],
   "source": [
    "[i for i,v in np.ndenumerate(lst) if v==2]"
   ]
  },
  {
   "cell_type": "code",
   "execution_count": 291,
   "id": "21b96ec6",
   "metadata": {},
   "outputs": [
    {
     "data": {
      "text/plain": [
       "(array([1, 3]),)"
      ]
     },
     "execution_count": 298,
     "metadata": {},
     "output_type": "execute_result"
    }
   ],
   "source": [
    "array = np.array(lst)\n",
    "np.where(array==2) # Returns index "
   ]
  },
  {
   "cell_type": "code",
   "execution_count": 299,
   "id": "3075893f",
   "metadata": {},
   "outputs": [
    {
     "data": {
      "text/plain": [
       "(array([1, 2, 3]),)"
      ]
     },
     "execution_count": 299,
     "metadata": {},
     "output_type": "execute_result"
    }
   ],
   "source": [
    "array = np.array(lst)\n",
    "np.where((array==2) | (array==3)) # Returns index "
   ]
  },
  {
   "cell_type": "code",
   "execution_count": null,
   "id": "b6d432c9",
   "metadata": {},
   "outputs": [
    {
     "data": {
      "text/plain": [
       "array([ 1, 20, 30, 20,  1,  1])"
      ]
     },
     "execution_count": 309,
     "metadata": {},
     "output_type": "execute_result"
    }
   ],
   "source": [
    "array = np.array(lst)\n",
    "np.where(array==2,20,np.where(array==3,30,array)) # Returns index \n",
    "# Doesnt update "
   ]
  },
  {
   "cell_type": "code",
   "execution_count": null,
   "id": "ab97c6e2",
   "metadata": {},
   "outputs": [],
   "source": [
    "Hence to replace multiple elements with different values we have to write multiple np.where statements"
   ]
  },
  {
   "cell_type": "code",
   "execution_count": null,
   "id": "ce941bf6",
   "metadata": {},
   "outputs": [],
   "source": [
    "2] np.argmin()\n",
    "a] Returns the index of the first minimum value in an array \n",
    "b] Return first occurence only \n",
    "c] Returns the indices of the minimum values along an axis\n",
    "2] np.argmax()\n",
    "a] Returns the index of the first maximum value in an array \n",
    "b] Return first occurence only \n",
    "c] Returns the indices of the maximum values along an axis"
   ]
  },
  {
   "cell_type": "code",
   "execution_count": 312,
   "id": "31f082bb",
   "metadata": {},
   "outputs": [
    {
     "name": "stdout",
     "output_type": "stream",
     "text": [
      "0\n",
      "1\n",
      "2\n",
      "3\n"
     ]
    }
   ],
   "source": [
    "array = np.array(lst)\n",
    "print(np.argmin(array))\n",
    "print(array[np.argmin(array)])\n",
    "print(np.argmax(array))\n",
    "print(array[np.argmax(array)])"
   ]
  },
  {
   "cell_type": "code",
   "execution_count": null,
   "id": "7c966de4",
   "metadata": {},
   "outputs": [],
   "source": [
    "np.delete(array,index)\n",
    "- Delete specified elements from an array "
   ]
  },
  {
   "cell_type": "code",
   "execution_count": 320,
   "id": "bae6ba60",
   "metadata": {},
   "outputs": [
    {
     "name": "stdout",
     "output_type": "stream",
     "text": [
      "[1 2 3 2 1 1]\n",
      "[1 2 3 2 1 1]\n",
      "[1 2 2 1 1]\n",
      "[1 2 1 1]\n"
     ]
    }
   ],
   "source": [
    "array = np.array(lst)\n",
    "print(array)\n",
    "array2 = np.delete(array,2) #Doesnt update\n",
    "print(array)\n",
    "print(array2)\n",
    "array3 = np.delete(array,[1,2]) \n",
    "print(array3)"
   ]
  },
  {
   "cell_type": "code",
   "execution_count": 321,
   "id": "9d0251ad",
   "metadata": {},
   "outputs": [
    {
     "data": {
      "text/plain": [
       "array([3, 4, 5, 6])"
      ]
     },
     "execution_count": 321,
     "metadata": {},
     "output_type": "execute_result"
    }
   ],
   "source": [
    "array1 = np.array([1,2,3,4,5,6])\n",
    "array2 = np.delete(array1,[0,1])\n",
    "array2"
   ]
  },
  {
   "cell_type": "code",
   "execution_count": null,
   "id": "981649e1",
   "metadata": {},
   "outputs": [],
   "source": [
    "np.cumsum()\n",
    "- Cumulative sum of elements along a given axis"
   ]
  },
  {
   "cell_type": "code",
   "execution_count": 322,
   "id": "e2f0ad93",
   "metadata": {},
   "outputs": [
    {
     "name": "stdout",
     "output_type": "stream",
     "text": [
      "[ 1  3  6 10 15 21]\n"
     ]
    }
   ],
   "source": [
    "array1 = np.array([1,2,3,4,5,6])\n",
    "print(np.cumsum(array1))"
   ]
  },
  {
   "cell_type": "code",
   "execution_count": null,
   "id": "bcb48554",
   "metadata": {},
   "outputs": [],
   "source": [
    "np.isnan() - If value is nan return True else return False"
   ]
  },
  {
   "cell_type": "code",
   "execution_count": 325,
   "id": "17fb9293",
   "metadata": {},
   "outputs": [
    {
     "name": "stdout",
     "output_type": "stream",
     "text": [
      "[False False  True False False  True False False]\n",
      "[nan nan]\n",
      "[nan nan]\n"
     ]
    }
   ],
   "source": [
    "array = np.array([2,3,np.nan,4,5,np.nan,6,7])\n",
    "print(np.isnan(array))\n",
    "mask = np.isnan(array)\n",
    "print(array[mask])\n",
    "print(array[np.isnan(array)])"
   ]
  },
  {
   "cell_type": "code",
   "execution_count": null,
   "id": "45316096",
   "metadata": {},
   "outputs": [],
   "source": [
    "np.select(condlist=,choicelist=,default=)"
   ]
  },
  {
   "cell_type": "code",
   "execution_count": null,
   "id": "9f81d38b",
   "metadata": {},
   "outputs": [],
   "source": [
    "It allows us to choose value from multiple option based on multiple conditions. "
   ]
  },
  {
   "cell_type": "code",
   "execution_count": null,
   "id": "0c38b009",
   "metadata": {},
   "outputs": [],
   "source": [
    "prices = np.array([200,40,60,350,625,787,9100,9511,9811])\n",
    "choices = ['Low Range','Medium Range','High Range']\n",
    "conditions = [prices<100,(prices>=100) & (prices<1000),prices>=1000]"
   ]
  },
  {
   "cell_type": "code",
   "execution_count": 331,
   "id": "ae57c74b",
   "metadata": {},
   "outputs": [
    {
     "data": {
      "text/plain": [
       "array(['Medium Range', 'Low Range', 'Low Range', 'Medium Range',\n",
       "       'Medium Range', 'Medium Range', 'High Range', 'High Range',\n",
       "       'High Range'], dtype='<U12')"
      ]
     },
     "execution_count": 331,
     "metadata": {},
     "output_type": "execute_result"
    }
   ],
   "source": [
    "array = np.select(condlist=conditions,choicelist=choices,default=\"U\")\n",
    "array"
   ]
  },
  {
   "cell_type": "code",
   "execution_count": null,
   "id": "e6b89f8f",
   "metadata": {},
   "outputs": [
    {
     "data": {
      "text/plain": [
       "array(['Medium Range', 'Low Range', 'Low Range', 'Medium Range',\n",
       "       'Medium Range', 'Medium Range', 'High Range', 'High Range',\n",
       "       'High Range'], dtype='<U12')"
      ]
     },
     "execution_count": 332,
     "metadata": {},
     "output_type": "execute_result"
    }
   ],
   "source": [
    "array = np.select(conditions,choices,\"U\")\n",
    "array"
   ]
  },
  {
   "cell_type": "code",
   "execution_count": null,
   "id": "66cd0547",
   "metadata": {},
   "outputs": [],
   "source": [
    "prices = np.array([200,40,60,350,625,787,9100,9511,9811])\n",
    "choices = ['Low Range','High Range']\n",
    "conditions = [prices<100,prices>=1000]"
   ]
  },
  {
   "cell_type": "code",
   "execution_count": 333,
   "id": "0ae4043a",
   "metadata": {},
   "outputs": [
    {
     "data": {
      "text/plain": [
       "array(['Medium Range', 'Low Range', 'Low Range', 'Medium Range',\n",
       "       'Medium Range', 'Medium Range', 'High Range', 'High Range',\n",
       "       'High Range'], dtype='<U12')"
      ]
     },
     "execution_count": 333,
     "metadata": {},
     "output_type": "execute_result"
    }
   ],
   "source": [
    "array = np.select(conditions,choices,\"Medium Range\")\n",
    "array"
   ]
  },
  {
   "cell_type": "code",
   "execution_count": null,
   "id": "2fb95605",
   "metadata": {},
   "outputs": [],
   "source": [
    "1] np.array(list/tuple/dict/Series,ndmin=,dtype=\"\") - To create numpy array \n",
    "2] array.ndim() - To know the dimensions of an array \n",
    "3] array.shape() - To know the shape of the array\n",
    "4] array.size() - To know the total number of elements of the array \n",
    "5] array.reshape(new_shape) - To change the shape of the array\n",
    "6] np.nditer(array) - Iterates over an array element wise \n",
    "7] np.ndenumerate(array) - Iterates over an array element wise and also return index of that element \n",
    "8] array.tolist() - To convert an array into a list\n",
    "9] array.flatten() - To convert multi-dimensional array into a 1-dimensional array\n",
    "10] array.copy() - To copy array to other variable \n",
    "11] np.zeros(shape,dtype=) - Returns an array of 0 for mentioned shape # default dtype: float  \n",
    "12] np.ones(shape,dtype=) - Returns an array of 1 for mentioned shape # default dtype: float  \n",
    "13] np.full(shape,value,dtype=) - Returns an array of value for mentioned shape # default dtype: int  \n",
    "14] np.append(arr1,arr2,axis=) - Join 2 arrays/Add one array to the existing one #axis=0 (row-wise) #axis=1 (column-wise)\n",
    "15] np.concatenate([arr1,arr2,arr3,..,arrN],axis=) - Join multiple arrays\n",
    "16] np.arange(low,high,step_size) \n",
    "17] np.random()\n",
    "np.random.rand(size=) - It generates random floating values between 0 and 1 \n",
    "np.random.ranf(size=) - It generates random floating values between 0 and 1 \n",
    "np.random.sample(size=) - It generates random floating values between 0 and 1 \n",
    "np.random.randint(low=,high=(exclude),size=) - It generates random integers within the specified range \n",
    "np.random.uniform(low=,high=(exclude),size=) - It generates random floating values within the specified range \n",
    "np.random.randn(shape) - It returns samples of normally distributed data\n",
    "18] np.around() - Rounds an array to the given number of decimals \n",
    "19] np.floor() - Returns the floor of the input,element-wise\n",
    "20] np.ceil() - Returns the ceil of the input,element-wise\n",
    "21] np.add() - Add arguments element-wise\n",
    "22] np.multiply() - Multiply arguments element-wise \n",
    "23] np.dot() - Dot product of 2 matrices(Scalar product)\n",
    "24] np.sqrt() - Returns the non-negative square root of an array, element-wise\n",
    "25] np.cbrt() - Returns the cube root of an array,element-wise \n",
    "26] np.abs() - Returns the positive of an array,element-wise\n",
    "27] np.max(array,axis=) - Returns the maximum of an array or maximum along axis \n",
    "28] np.min(array,axis=) - Returns the minimum of an array or minimum along axis \n",
    "29] np.sum(array,axis=) - Compute the sum along the specified axis\n",
    "30] np.mean(array,axis=) - Compute the arithmetic mean along the specified axis\n",
    "31] np.median(array,axis=) - Compute the median along the specified axis\n",
    "32] np.var(array,axis=) - Compute the variance along the specified axis\n",
    "33] np.std(array,axis=) - Compute the standard deviation along the specified axis\n",
    "34] np.percentile(array,q,axis=) - Compute the qth percentile along the specified axis\n",
    "35] np.quantile(array,q,axis=) - Compute the qth quantile along the specified axis\n",
    "36] np.nanmax(array,axis=)\n",
    "37] np.nanmin(array,axis=)\n",
    "38] np.nansum(array,axis=)\n",
    "39] np.nanmean(array,axis=)\n",
    "40] np.nanmedian(array,axis=)\n",
    "41] np.nanvar(array,axis=)\n",
    "42] np.nanstd(array,axis=)\n",
    "43] np.nanpercentile(array,axis=)\n",
    "44] np.nanquantile(array,axis=)\n",
    "45] scipy.stats.mode\n",
    "46] np.linalg.solve(arrayA,arrayB)\n",
    "47] np.linalg.det(square_matrix)\n",
    "48] np.linalg.inv(square_matrix)\n",
    "49] np.linalg.matrix_transpose(matrix)\n",
    "50] np.linalg.eig(array)\n",
    "51] np.linalg.eigvals(array)\n",
    "52] eq = np.polynomial.Polynomial(coefficients)\n",
    "53] eq.roots()\n",
    "54] np.identity()\n",
    "55] np.eye()\n",
    "56] np.deg2rad(degree)\n",
    "57] np.rad2deg(radian)\n",
    "58] np.sin(radian)\n",
    "59] np.cos(radian)\n",
    "60] np.tan(radian)\n",
    "61] np.unique(array)\n",
    "62] np.union1d(array1,array2)\n",
    "63] np.intersect1d(array1,array2)\n",
    "64] np.setdiff1d(array1,array2)\n",
    "65] np.setxor1d(arrat1,arra2)\n",
    "66] np.put(array,indices,values)\n",
    "67] np.repeat(value,n)\n",
    "68] np.sort(array)\n",
    "69] np.where()\n",
    "70] np.argmax(array)\n",
    "71] np.argmin(array)\n",
    "72] np.delete(array,indices)\n",
    "73] np.cumsum(array,axis=)\n",
    "74] np.isnan(array)\n",
    "75] np.select(condlist=,choicelist=,default=)\n",
    "76] np.log(array)\n",
    "77] np.log2(array)\n",
    "78] np.log10(array)\n"
   ]
  }
 ],
 "metadata": {
  "kernelspec": {
   "display_name": "rohit",
   "language": "python",
   "name": "python3"
  },
  "language_info": {
   "codemirror_mode": {
    "name": "ipython",
    "version": 3
   },
   "file_extension": ".py",
   "mimetype": "text/x-python",
   "name": "python",
   "nbconvert_exporter": "python",
   "pygments_lexer": "ipython3",
   "version": "3.13.2"
  }
 },
 "nbformat": 4,
 "nbformat_minor": 5
}
