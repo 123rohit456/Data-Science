{
 "cells": [
  {
   "cell_type": "code",
   "execution_count": 1,
   "id": "3ec994f2",
   "metadata": {},
   "outputs": [
    {
     "name": "stdout",
     "output_type": "stream",
     "text": [
      "    roll_no          Name   CGPA\n",
      "0  SYITB126    Rohit Wani   8.78\n",
      "1  SYITB128    Yash Yadav   8.60\n",
      "2  SYITB129   Divij Joshi   9.00\n"
     ]
    }
   ],
   "source": [
    "import pandas as pd\n",
    "d_txt = pd.read_csv('D:/ASS1/cgpa.txt' ,sep=',')\n",
    "print(d_txt)"
   ]
  },
  {
   "cell_type": "code",
   "execution_count": 2,
   "id": "03621e18",
   "metadata": {},
   "outputs": [
    {
     "name": "stdout",
     "output_type": "stream",
     "text": [
      "    roll_no         Name  CGPA\n",
      "0  SYITB126   Rohit Wani  8.78\n",
      "1  SYITB128   Yash Yadav  8.60\n",
      "2  SYITB129  Divij Joshi  9.00\n"
     ]
    }
   ],
   "source": [
    "d_excel = pd.read_excel('D:/ASS1/cgpa.xlsx')\n",
    "print(d_excel)"
   ]
  },
  {
   "cell_type": "code",
   "execution_count": 7,
   "id": "14534554",
   "metadata": {},
   "outputs": [
    {
     "name": "stdout",
     "output_type": "stream",
     "text": [
      "Yash Yadav\n",
      "Yash Yadav\n",
      "SYITB129\n"
     ]
    }
   ],
   "source": [
    "print(d_excel['Name'].loc[1])\n",
    "print(d_excel['Name'].loc[d_excel.index[1]])\n",
    "print(d_excel['roll_no'].iloc[-1])"
   ]
  },
  {
   "cell_type": "raw",
   "id": "0e69dba4",
   "metadata": {},
   "source": [
    "import xml.etree.ElementTree as ET\n",
    "tree = ET.parse('D:/ASS1/cgpa.xml')\n",
    "root = tree.getroot()\n",
    "print(root.text)"
   ]
  },
  {
   "cell_type": "code",
   "execution_count": 6,
   "id": "3becb05a",
   "metadata": {},
   "outputs": [
    {
     "name": "stdout",
     "output_type": "stream",
     "text": [
      "<Element 'Student' at 0x0000018745C5D090>\n",
      "102\n",
      "CS\n",
      "rollno\n",
      "101\n",
      "name\n",
      "Rohit Wani\n",
      "rollno\n",
      "102\n",
      "name\n",
      "Yash Yadav\n"
     ]
    }
   ],
   "source": [
    "import xml.etree.ElementTree as ET\n",
    "tree = ET.parse('D:/ASS1/cgpa.xml')\n",
    "root = tree.getroot()\n",
    "print(root)\n",
    "print(root[1][0].text)\n",
    "print(root[-1][-1].text)\n",
    "for tree in root:\n",
    "    print(tree[0].tag)\n",
    "    print(tree[0].text)\n",
    "    print(tree[1].tag)\n",
    "    print(tree[1].text)"
   ]
  },
  {
   "cell_type": "code",
   "execution_count": 3,
   "id": "5d5e7232",
   "metadata": {},
   "outputs": [
    {
     "name": "stdout",
     "output_type": "stream",
     "text": [
      "1\n",
      "Rohit\n",
      "IT\n",
      "B\n",
      "TY\n",
      "2\n",
      "Abhishek\n",
      "ITa\n",
      "D\n",
      "TY\n",
      "3\n",
      "Divij\n",
      "CS\n",
      "C\n",
      "SY\n",
      "4\n",
      "Satish\n",
      "ENTC\n",
      "E\n",
      "FY\n",
      "5\n",
      "Chetan\n",
      "IT\n",
      "B\n",
      "TY\n",
      "<_csv.writer object at 0x0000018745C643B0>\n"
     ]
    }
   ],
   "source": [
    "import csv\n",
    "fields = ['Roll No','Name','Branch','Division','Year']\n",
    "with open('D:/ASS1/branch.csv','w',newline=\"\") as OutFile:\n",
    "    writer = csv.writer(OutFile)\n",
    "    writer.writerow(fields)\n",
    "    features = []\n",
    "    for i in range(5): # by default 0 to 4 \n",
    "        #a = [int(input()),input(),input()]\n",
    "        b = int(input())\n",
    "        c = input()\n",
    "        d = input()\n",
    "        e = input()\n",
    "        f = input()\n",
    "        a = [b,c,d,e,f]\n",
    "        features.append(a)\n",
    "    writer.writerows(features)\n",
    "    print(writer)"
   ]
  },
  {
   "cell_type": "code",
   "execution_count": null,
   "id": "83f2aa94",
   "metadata": {},
   "outputs": [],
   "source": []
  }
 ],
 "metadata": {
  "kernelspec": {
   "display_name": "Python 3 (ipykernel)",
   "language": "python",
   "name": "python3"
  },
  "language_info": {
   "codemirror_mode": {
    "name": "ipython",
    "version": 3
   },
   "file_extension": ".py",
   "mimetype": "text/x-python",
   "name": "python",
   "nbconvert_exporter": "python",
   "pygments_lexer": "ipython3",
   "version": "3.9.7"
  }
 },
 "nbformat": 4,
 "nbformat_minor": 5
}
